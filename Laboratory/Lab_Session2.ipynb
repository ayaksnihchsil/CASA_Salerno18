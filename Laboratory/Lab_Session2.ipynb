{
  "nbformat": 4,
  "nbformat_minor": 0,
  "metadata": {
    "colab": {
      "name": "LabSession_2.ipynb",
      "version": "0.3.2",
      "provenance": [],
      "collapsed_sections": []
    },
    "kernelspec": {
      "name": "python3",
      "display_name": "Python 3"
    },
    "accelerator": "GPU"
  },
  "cells": [
    {
      "metadata": {
        "id": "ThdZMN-AQe66",
        "colab_type": "code",
        "colab": {}
      },
      "cell_type": "code",
      "source": [
        "from keras.datasets import mnist\n",
        "\n",
        "from keras.utils import to_categorical\n",
        "from keras import models, layers\n",
        "\n",
        "import matplotlib.pyplot as plt\n",
        "%matplotlib inline"
      ],
      "execution_count": 0,
      "outputs": []
    },
    {
      "metadata": {
        "id": "6WeF_SIVQ0Al",
        "colab_type": "code",
        "colab": {}
      },
      "cell_type": "code",
      "source": [
        "(x_tr, y_tr),(x_te,y_te) = mnist.load_data()"
      ],
      "execution_count": 0,
      "outputs": []
    },
    {
      "metadata": {
        "id": "725y6Q11JHdx",
        "colab_type": "code",
        "colab": {
          "base_uri": "https://localhost:8080/",
          "height": 34
        },
        "outputId": "33202e29-b701-4dcd-f73f-4eeb64c0dd67"
      },
      "cell_type": "code",
      "source": [
        "x_tr.shape"
      ],
      "execution_count": 19,
      "outputs": [
        {
          "output_type": "execute_result",
          "data": {
            "text/plain": [
              "(60000, 28, 28)"
            ]
          },
          "metadata": {
            "tags": []
          },
          "execution_count": 19
        }
      ]
    },
    {
      "metadata": {
        "id": "sTbtxcKrQ6_m",
        "colab_type": "code",
        "colab": {}
      },
      "cell_type": "code",
      "source": [
        "#Preprocess"
      ],
      "execution_count": 0,
      "outputs": []
    },
    {
      "metadata": {
        "id": "FWS53zCuRBzP",
        "colab_type": "code",
        "colab": {}
      },
      "cell_type": "code",
      "source": [
        "x_tr = x_tr.astype('float32')/255.\n",
        "x_te = x_te.astype('float32')/255.\n",
        "x_tr = x_tr.reshape((x_tr.shape[0],x_tr.shape[1]*x_tr.shape[2]))\n",
        "x_te = x_te.reshape((x_te.shape[0],x_te.shape[1]*x_te.shape[2]))"
      ],
      "execution_count": 0,
      "outputs": []
    },
    {
      "metadata": {
        "id": "OBxfeXjyRHwo",
        "colab_type": "code",
        "colab": {}
      },
      "cell_type": "code",
      "source": [
        "y_tr = to_categorical(y_tr)\n",
        "y_te = to_categorical(y_te)"
      ],
      "execution_count": 0,
      "outputs": []
    },
    {
      "metadata": {
        "id": "_ReUJDgJSOAt",
        "colab_type": "code",
        "colab": {}
      },
      "cell_type": "code",
      "source": [
        "# Split training data"
      ],
      "execution_count": 0,
      "outputs": []
    },
    {
      "metadata": {
        "id": "4LI9JKMwSOOD",
        "colab_type": "code",
        "colab": {}
      },
      "cell_type": "code",
      "source": [
        "x_val = x_tr[:10000]\n",
        "y_val = y_tr[:10000]\n",
        "\n",
        "x_tr = x_tr[10000:]\n",
        "y_tr = y_tr[10000:]\n",
        "\n"
      ],
      "execution_count": 0,
      "outputs": []
    },
    {
      "metadata": {
        "id": "9XGTrhitTOM7",
        "colab_type": "code",
        "colab": {
          "base_uri": "https://localhost:8080/",
          "height": 34
        },
        "outputId": "2edecdd9-a70f-49cd-a7ab-6da9516d04f7"
      },
      "cell_type": "code",
      "source": [
        "x_val.shape"
      ],
      "execution_count": 39,
      "outputs": [
        {
          "output_type": "execute_result",
          "data": {
            "text/plain": [
              "(10000, 784)"
            ]
          },
          "metadata": {
            "tags": []
          },
          "execution_count": 39
        }
      ]
    },
    {
      "metadata": {
        "id": "gbbk6RySTRMt",
        "colab_type": "code",
        "colab": {
          "base_uri": "https://localhost:8080/",
          "height": 34
        },
        "outputId": "ea517c8d-622e-4202-d701-da31b3ca4444"
      },
      "cell_type": "code",
      "source": [
        "x_tr.shape"
      ],
      "execution_count": 40,
      "outputs": [
        {
          "output_type": "execute_result",
          "data": {
            "text/plain": [
              "(50000, 784)"
            ]
          },
          "metadata": {
            "tags": []
          },
          "execution_count": 40
        }
      ]
    },
    {
      "metadata": {
        "id": "xF2wwjqeM2qp",
        "colab_type": "text"
      },
      "cell_type": "markdown",
      "source": [
        "# 10000 validation and 50000 for training\n",
        "\n",
        "\n",
        "# x_tr into x_tr and x_val\n",
        "\n",
        "\n",
        "# y_tr into y_tr and y_val"
      ]
    },
    {
      "metadata": {
        "id": "ranZV2ghRQAK",
        "colab_type": "code",
        "colab": {}
      },
      "cell_type": "code",
      "source": [
        "# Model"
      ],
      "execution_count": 0,
      "outputs": []
    },
    {
      "metadata": {
        "id": "fvyS9iRaRRST",
        "colab_type": "code",
        "colab": {}
      },
      "cell_type": "code",
      "source": [
        "#A function to create the model\n",
        "def build_complex_model():\n",
        "    model = models.Sequential()\n",
        "    \n",
        "    model.add(layers.Dense(512, activation='relu', input_shape=(28*28,)))\n",
        "    model.add(layers.Dense(1024, activation='relu'))\n",
        "    model.add(layers.Dense(1024, activation='relu'))\n",
        "    model.add(layers.Dense(1024, activation='relu'))\n",
        "    model.add(layers.Dense(10, activation='softmax'))\n",
        "    \n",
        "    model.compile(optimizer='rmsprop', loss='categorical_crossentropy', metrics=['acc'])\n",
        "    \n",
        "    return model"
      ],
      "execution_count": 0,
      "outputs": []
    },
    {
      "metadata": {
        "id": "4J6Z7U5tRYGF",
        "colab_type": "code",
        "colab": {}
      },
      "cell_type": "code",
      "source": [
        "complex_model = build_complex_model() #Create the model"
      ],
      "execution_count": 0,
      "outputs": []
    },
    {
      "metadata": {
        "id": "WSLITN95Rd3-",
        "colab_type": "code",
        "colab": {
          "base_uri": "https://localhost:8080/",
          "height": 306
        },
        "outputId": "e79f0f6a-63d6-444e-c134-9534880516f6"
      },
      "cell_type": "code",
      "source": [
        "complex_model.summary() #Lets see how many parameters do we have."
      ],
      "execution_count": 43,
      "outputs": [
        {
          "output_type": "stream",
          "text": [
            "_________________________________________________________________\n",
            "Layer (type)                 Output Shape              Param #   \n",
            "=================================================================\n",
            "dense_16 (Dense)             (None, 512)               401920    \n",
            "_________________________________________________________________\n",
            "dense_17 (Dense)             (None, 1024)              525312    \n",
            "_________________________________________________________________\n",
            "dense_18 (Dense)             (None, 1024)              1049600   \n",
            "_________________________________________________________________\n",
            "dense_19 (Dense)             (None, 1024)              1049600   \n",
            "_________________________________________________________________\n",
            "dense_20 (Dense)             (None, 10)                10250     \n",
            "=================================================================\n",
            "Total params: 3,036,682\n",
            "Trainable params: 3,036,682\n",
            "Non-trainable params: 0\n",
            "_________________________________________________________________\n"
          ],
          "name": "stdout"
        }
      ]
    },
    {
      "metadata": {
        "id": "38Wp56K5Rga2",
        "colab_type": "code",
        "colab": {
          "base_uri": "https://localhost:8080/",
          "height": 374
        },
        "outputId": "f87b658f-ebb7-4e46-ada0-8354167208c1"
      },
      "cell_type": "code",
      "source": [
        "complex_hist = complex_model.fit(x_tr, y_tr, epochs=10, batch_size=128, validation_data=(x_val,y_val)) #train the model"
      ],
      "execution_count": 44,
      "outputs": [
        {
          "output_type": "stream",
          "text": [
            "Train on 50000 samples, validate on 10000 samples\n",
            "Epoch 1/10\n",
            "50000/50000 [==============================] - 4s 89us/step - loss: 0.3043 - acc: 0.9104 - val_loss: 0.1496 - val_acc: 0.9596\n",
            "Epoch 2/10\n",
            "50000/50000 [==============================] - 4s 80us/step - loss: 0.1226 - acc: 0.9660 - val_loss: 0.1564 - val_acc: 0.9682\n",
            "Epoch 3/10\n",
            "50000/50000 [==============================] - 4s 80us/step - loss: 0.0932 - acc: 0.9759 - val_loss: 0.1242 - val_acc: 0.9692\n",
            "Epoch 4/10\n",
            "50000/50000 [==============================] - 4s 80us/step - loss: 0.0801 - acc: 0.9800 - val_loss: 0.1115 - val_acc: 0.9750\n",
            "Epoch 5/10\n",
            "50000/50000 [==============================] - 4s 80us/step - loss: 0.0704 - acc: 0.9831 - val_loss: 0.1164 - val_acc: 0.9745\n",
            "Epoch 6/10\n",
            "50000/50000 [==============================] - 4s 81us/step - loss: 0.0642 - acc: 0.9846 - val_loss: 0.1153 - val_acc: 0.9754\n",
            "Epoch 7/10\n",
            "50000/50000 [==============================] - 4s 80us/step - loss: 0.0563 - acc: 0.9870 - val_loss: 0.1587 - val_acc: 0.9724\n",
            "Epoch 8/10\n",
            "50000/50000 [==============================] - 4s 81us/step - loss: 0.0553 - acc: 0.9879 - val_loss: 0.1313 - val_acc: 0.9750\n",
            "Epoch 9/10\n",
            "50000/50000 [==============================] - 4s 81us/step - loss: 0.0499 - acc: 0.9893 - val_loss: 0.1386 - val_acc: 0.9769\n",
            "Epoch 10/10\n",
            "50000/50000 [==============================] - 4s 80us/step - loss: 0.0421 - acc: 0.9903 - val_loss: 0.1884 - val_acc: 0.9718\n"
          ],
          "name": "stdout"
        }
      ]
    },
    {
      "metadata": {
        "id": "qfIgp8VdRjdX",
        "colab_type": "code",
        "colab": {}
      },
      "cell_type": "code",
      "source": [
        "complex_hist = complex_hist.history"
      ],
      "execution_count": 0,
      "outputs": []
    },
    {
      "metadata": {
        "id": "CR18xstcTgix",
        "colab_type": "code",
        "colab": {}
      },
      "cell_type": "code",
      "source": [
        "def print_acc(hist):\n",
        "  epochs = range(1, len(hist['acc'])+1)\n",
        "  plt.plot(epochs, hist['acc'], 'b', label='Training acc')\n",
        "  plt.plot(epochs, hist['val_acc'], 'r', label='Validation acc')\n",
        "  plt.title('Training and validation Acc')\n",
        "  plt.xlabel('Epochs')\n",
        "  plt.ylabel('Acc')\n",
        "  plt.legend()\n",
        "  plt.show()"
      ],
      "execution_count": 0,
      "outputs": []
    },
    {
      "metadata": {
        "id": "VzOSVLvmT6ZU",
        "colab_type": "code",
        "colab": {}
      },
      "cell_type": "code",
      "source": [
        "def print_loss(hist):\n",
        "  epochs = range(1, len(hist['loss'])+1)\n",
        "  plt.plot(epochs, hist['loss'], 'b', label='Training loss')\n",
        "  plt.plot(epochs, hist['val_loss'], 'r', label='Validation loss')\n",
        "  plt.title('Training and validation Loss')\n",
        "  plt.xlabel('Epochs')\n",
        "  plt.ylabel('Loss')\n",
        "  plt.legend()\n",
        "  plt.show()"
      ],
      "execution_count": 0,
      "outputs": []
    },
    {
      "metadata": {
        "id": "QH3rPsY0TwdG",
        "colab_type": "code",
        "colab": {
          "base_uri": "https://localhost:8080/",
          "height": 294
        },
        "outputId": "f361da08-948e-46e2-8b79-0bd8adbc963b"
      },
      "cell_type": "code",
      "source": [
        "print_acc(complex_hist)"
      ],
      "execution_count": 48,
      "outputs": [
        {
          "output_type": "display_data",
          "data": {
            "image/png": "[encoded data removed]",
            "text/plain": [
              "<matplotlib.figure.Figure at 0x7fda27027908>"
            ]
          },
          "metadata": {
            "tags": []
          }
        }
      ]
    },
    {
      "metadata": {
        "id": "mGcWQumkTzx3",
        "colab_type": "code",
        "colab": {
          "base_uri": "https://localhost:8080/",
          "height": 294
        },
        "outputId": "307d7fc8-dd3f-407f-f65e-e857cdfc1823"
      },
      "cell_type": "code",
      "source": [
        "print_loss(complex_hist)"
      ],
      "execution_count": 49,
      "outputs": [
        {
          "output_type": "display_data",
          "data": {
            "image/png": "[encoded data removed]",
            "text/plain": [
              "<matplotlib.figure.Figure at 0x7fda27049358>"
            ]
          },
          "metadata": {
            "tags": []
          }
        }
      ]
    },
    {
      "metadata": {
        "id": "R7lq1XYMUEff",
        "colab_type": "code",
        "colab": {}
      },
      "cell_type": "code",
      "source": [
        "perfect_model = build_complex_model() #Create the model"
      ],
      "execution_count": 0,
      "outputs": []
    },
    {
      "metadata": {
        "id": "18BTimQ4UG-7",
        "colab_type": "code",
        "colab": {
          "base_uri": "https://localhost:8080/",
          "height": 238
        },
        "outputId": "24b5071c-623c-4a8e-c959-c6f73407e2d5"
      },
      "cell_type": "code",
      "source": [
        "complex_hist = perfect_model.fit(x_tr, y_tr, epochs=6, batch_size=128, validation_data=(x_val,y_val)) #train the model"
      ],
      "execution_count": 52,
      "outputs": [
        {
          "output_type": "stream",
          "text": [
            "Train on 50000 samples, validate on 10000 samples\n",
            "Epoch 1/6\n",
            "50000/50000 [==============================] - 5s 92us/step - loss: 0.2988 - acc: 0.9086 - val_loss: 0.3437 - val_acc: 0.9148\n",
            "Epoch 2/6\n",
            "50000/50000 [==============================] - 4s 83us/step - loss: 0.1205 - acc: 0.9669 - val_loss: 0.1088 - val_acc: 0.9712\n",
            "Epoch 3/6\n",
            "50000/50000 [==============================] - 4s 82us/step - loss: 0.0943 - acc: 0.9756 - val_loss: 0.1644 - val_acc: 0.9672\n",
            "Epoch 4/6\n",
            "50000/50000 [==============================] - 4s 81us/step - loss: 0.0789 - acc: 0.9797 - val_loss: 0.1323 - val_acc: 0.9743\n",
            "Epoch 5/6\n",
            "50000/50000 [==============================] - 4s 80us/step - loss: 0.0723 - acc: 0.9831 - val_loss: 0.1275 - val_acc: 0.9758\n",
            "Epoch 6/6\n",
            "50000/50000 [==============================] - 4s 80us/step - loss: 0.0604 - acc: 0.9854 - val_loss: 0.1387 - val_acc: 0.9734\n"
          ],
          "name": "stdout"
        }
      ]
    },
    {
      "metadata": {
        "id": "XVgbLYAvUHB1",
        "colab_type": "code",
        "colab": {
          "base_uri": "https://localhost:8080/",
          "height": 51
        },
        "outputId": "5ff4865f-b0d0-4452-a570-fe68c70573bc"
      },
      "cell_type": "code",
      "source": [
        "perfect_model.evaluate(x_te, y_te)"
      ],
      "execution_count": 53,
      "outputs": [
        {
          "output_type": "stream",
          "text": [
            "10000/10000 [==============================] - 1s 80us/step\n"
          ],
          "name": "stdout"
        },
        {
          "output_type": "execute_result",
          "data": {
            "text/plain": [
              "[0.1332361420395578, 0.9766]"
            ]
          },
          "metadata": {
            "tags": []
          },
          "execution_count": 53
        }
      ]
    },
    {
      "metadata": {
        "id": "zfuPzZwhUXiq",
        "colab_type": "text"
      },
      "cell_type": "markdown",
      "source": [
        "## **TO DO - Split validation an training.**\n",
        "## **TO DO - Let's reduce the number of layers and analyze the behaviour.**\n"
      ]
    }
  ]
}