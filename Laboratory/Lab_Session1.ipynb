{
 "cells": [
  {
   "cell_type": "code",
   "execution_count": 1,
   "metadata": {},
   "outputs": [],
   "source": [
    "##Let's get the dataset"
   ]
  },
  {
   "cell_type": "code",
   "execution_count": 2,
   "metadata": {},
   "outputs": [
    {
     "name": "stderr",
     "output_type": "stream",
     "text": [
      "Using TensorFlow backend.\n"
     ]
    }
   ],
   "source": [
    "from keras.datasets import mnist"
   ]
  },
  {
   "cell_type": "code",
   "execution_count": 3,
   "metadata": {},
   "outputs": [],
   "source": [
    "(x_tr, y_tr),(x_te,y_te) = mnist.load_data()"
   ]
  },
  {
   "cell_type": "code",
   "execution_count": 4,
   "metadata": {},
   "outputs": [],
   "source": [
    "# How many samples have we got?"
   ]
  },
  {
   "cell_type": "code",
   "execution_count": 5,
   "metadata": {},
   "outputs": [
    {
     "data": {
      "text/plain": [
       "(60000, 28, 28)"
      ]
     },
     "execution_count": 5,
     "metadata": {},
     "output_type": "execute_result"
    }
   ],
   "source": [
    "x_tr.shape # 60K samples of 28x28!"
   ]
  },
  {
   "cell_type": "code",
   "execution_count": 6,
   "metadata": {},
   "outputs": [
    {
     "data": {
      "text/plain": [
       "(60000,)"
      ]
     },
     "execution_count": 6,
     "metadata": {},
     "output_type": "execute_result"
    }
   ],
   "source": [
    "y_tr.shape #60K labels...one label per sample"
   ]
  },
  {
   "cell_type": "code",
   "execution_count": 7,
   "metadata": {},
   "outputs": [],
   "source": [
    "import matplotlib.pyplot as plt\n",
    "%matplotlib inline"
   ]
  },
  {
   "cell_type": "code",
   "execution_count": 8,
   "metadata": {},
   "outputs": [
    {
     "data": {
      "text/plain": [
       "<matplotlib.image.AxesImage at 0x1216e8150>"
      ]
     },
     "execution_count": 8,
     "metadata": {},
     "output_type": "execute_result"
    },
    {
     "data": {
      "image/png": "[encoded data removed]",
      "text/plain": [
       "<matplotlib.figure.Figure at 0x116140790>"
      ]
     },
     "metadata": {},
     "output_type": "display_data"
    }
   ],
   "source": [
    "plt.imshow(x_tr[0], cmap='gray') #the first sample is a 5"
   ]
  },
  {
   "cell_type": "code",
   "execution_count": 9,
   "metadata": {},
   "outputs": [
    {
     "data": {
      "text/plain": [
       "5"
      ]
     },
     "execution_count": 9,
     "metadata": {},
     "output_type": "execute_result"
    }
   ],
   "source": [
    "y_tr[0] #then, the first label is a 5"
   ]
  },
  {
   "cell_type": "code",
   "execution_count": 10,
   "metadata": {},
   "outputs": [
    {
     "data": {
      "text/plain": [
       "{0, 1, 2, 3, 4, 5, 6, 7, 8, 9}"
      ]
     },
     "execution_count": 10,
     "metadata": {},
     "output_type": "execute_result"
    }
   ],
   "source": [
    "set(y_tr) #we have 10 different classes! "
   ]
  },
  {
   "cell_type": "markdown",
   "metadata": {},
   "source": [
    "## Data preprocessing"
   ]
  },
  {
   "cell_type": "markdown",
   "metadata": {},
   "source": [
    "### Data normalization - values from 0 to 1"
   ]
  },
  {
   "cell_type": "code",
   "execution_count": 11,
   "metadata": {},
   "outputs": [],
   "source": [
    "x_tr = x_tr.astype('float32')/255.\n",
    "x_te = x_te.astype('float32')/255."
   ]
  },
  {
   "cell_type": "markdown",
   "metadata": {},
   "source": [
    "### Data vectorization - a vector of 28*28 elements per image, just to fit our NN input"
   ]
  },
  {
   "cell_type": "code",
   "execution_count": 12,
   "metadata": {},
   "outputs": [],
   "source": [
    "x_tr = x_tr.reshape((x_tr.shape[0], (28*28)))\n",
    "x_te = x_te.reshape((x_te.shape[0], (28*28)))"
   ]
  },
  {
   "cell_type": "code",
   "execution_count": 13,
   "metadata": {},
   "outputs": [
    {
     "data": {
      "text/plain": [
       "(60000, 784)"
      ]
     },
     "execution_count": 13,
     "metadata": {},
     "output_type": "execute_result"
    }
   ],
   "source": [
    "x_tr.shape"
   ]
  },
  {
   "cell_type": "markdown",
   "metadata": {},
   "source": [
    "### Labels to categorical - one hot encoded vector"
   ]
  },
  {
   "cell_type": "code",
   "execution_count": 14,
   "metadata": {},
   "outputs": [],
   "source": [
    "from keras.utils import to_categorical"
   ]
  },
  {
   "cell_type": "code",
   "execution_count": 15,
   "metadata": {},
   "outputs": [],
   "source": [
    "y_tr = to_categorical(y_tr)\n",
    "y_te = to_categorical(y_te)"
   ]
  },
  {
   "cell_type": "code",
   "execution_count": 16,
   "metadata": {},
   "outputs": [
    {
     "data": {
      "text/plain": [
       "array([ 0.,  0.,  0.,  0.,  0.,  1.,  0.,  0.,  0.,  0.])"
      ]
     },
     "execution_count": 16,
     "metadata": {},
     "output_type": "execute_result"
    }
   ],
   "source": [
    "y_tr[0]"
   ]
  },
  {
   "cell_type": "markdown",
   "metadata": {},
   "source": [
    "## Let's build our model"
   ]
  },
  {
   "cell_type": "code",
   "execution_count": 17,
   "metadata": {},
   "outputs": [],
   "source": [
    "from keras import models, layers #packages"
   ]
  },
  {
   "cell_type": "markdown",
   "metadata": {},
   "source": [
    "## 1- Let's create a regular model"
   ]
  },
  {
   "cell_type": "code",
   "execution_count": 18,
   "metadata": {},
   "outputs": [],
   "source": [
    "#A function to create the model\n",
    "def build_regular_model():\n",
    "    model = models.Sequential()\n",
    "    \n",
    "    model.add(layers.Dense(128, activation='relu', input_shape=(28*28,)))\n",
    "    model.add(layers.Dense(10, activation='softmax'))\n",
    "    \n",
    "    model.compile(optimizer='rmsprop', loss='categorical_crossentropy', metrics=['acc'])\n",
    "    \n",
    "    return model"
   ]
  },
  {
   "cell_type": "code",
   "execution_count": 19,
   "metadata": {},
   "outputs": [],
   "source": [
    "reg_model = build_regular_model() #Create the model"
   ]
  },
  {
   "cell_type": "code",
   "execution_count": 20,
   "metadata": {
    "scrolled": true
   },
   "outputs": [
    {
     "name": "stdout",
     "output_type": "stream",
     "text": [
      "Train on 60000 samples, validate on 10000 samples\n",
      "Epoch 1/10\n",
      "60000/60000 [==============================] - 2s 38us/step - loss: 0.3371 - acc: 0.9066 - val_loss: 0.1908 - val_acc: 0.9454\n",
      "Epoch 2/10\n",
      "60000/60000 [==============================] - 2s 36us/step - loss: 0.1597 - acc: 0.9532 - val_loss: 0.1306 - val_acc: 0.9587\n",
      "Epoch 3/10\n",
      "60000/60000 [==============================] - 2s 37us/step - loss: 0.1139 - acc: 0.9670 - val_loss: 0.1074 - val_acc: 0.9684\n",
      "Epoch 4/10\n",
      "60000/60000 [==============================] - 2s 37us/step - loss: 0.0889 - acc: 0.9735 - val_loss: 0.0982 - val_acc: 0.9711\n",
      "Epoch 5/10\n",
      "60000/60000 [==============================] - 2s 36us/step - loss: 0.0721 - acc: 0.9791 - val_loss: 0.0867 - val_acc: 0.9735\n",
      "Epoch 6/10\n",
      "60000/60000 [==============================] - 2s 37us/step - loss: 0.0602 - acc: 0.9829 - val_loss: 0.0803 - val_acc: 0.9747\n",
      "Epoch 7/10\n",
      "60000/60000 [==============================] - 2s 37us/step - loss: 0.0515 - acc: 0.9846 - val_loss: 0.0810 - val_acc: 0.9746\n",
      "Epoch 8/10\n",
      "60000/60000 [==============================] - 2s 36us/step - loss: 0.0441 - acc: 0.9865 - val_loss: 0.0760 - val_acc: 0.9763\n",
      "Epoch 9/10\n",
      "60000/60000 [==============================] - 2s 36us/step - loss: 0.0382 - acc: 0.9890 - val_loss: 0.0773 - val_acc: 0.9774\n",
      "Epoch 10/10\n",
      "60000/60000 [==============================] - 2s 37us/step - loss: 0.0335 - acc: 0.9903 - val_loss: 0.0742 - val_acc: 0.9779\n"
     ]
    }
   ],
   "source": [
    "reg_hist = reg_model.fit(x_tr, y_tr, epochs=10, batch_size=128, validation_data=(x_te,y_te)) #train the model"
   ]
  },
  {
   "cell_type": "code",
   "execution_count": 21,
   "metadata": {},
   "outputs": [],
   "source": [
    "reg_hist = reg_hist.history"
   ]
  },
  {
   "cell_type": "code",
   "execution_count": 22,
   "metadata": {},
   "outputs": [
    {
     "data": {
      "text/plain": [
       "['acc', 'loss', 'val_acc', 'val_loss']"
      ]
     },
     "execution_count": 22,
     "metadata": {},
     "output_type": "execute_result"
    }
   ],
   "source": [
    "reg_hist.keys()"
   ]
  },
  {
   "cell_type": "code",
   "execution_count": 23,
   "metadata": {},
   "outputs": [
    {
     "data": {
      "image/png": "[encoded data removed]",
      "text/plain": [
       "<matplotlib.figure.Figure at 0x121863cd0>"
      ]
     },
     "metadata": {},
     "output_type": "display_data"
    }
   ],
   "source": [
    "epochs = range(1, len(reg_hist['acc'])+1)\n",
    "plt.plot(epochs, reg_hist['acc'], 'b', label='Training acc')\n",
    "plt.plot(epochs, reg_hist['val_acc'], 'r', label='Validation acc')\n",
    "plt.title('Training and validation Acc')\n",
    "plt.xlabel('Epochs')\n",
    "plt.ylabel('Acc')\n",
    "plt.legend()\n",
    "plt.show()"
   ]
  },
  {
   "cell_type": "code",
   "execution_count": 24,
   "metadata": {},
   "outputs": [
    {
     "data": {
      "image/png": "[encoded data removed]",
      "text/plain": [
       "<matplotlib.figure.Figure at 0x1239606d0>"
      ]
     },
     "metadata": {},
     "output_type": "display_data"
    }
   ],
   "source": [
    "epochs = range(1, len(reg_hist['acc'])+1)\n",
    "plt.plot(epochs, reg_hist['loss'], 'b', label='Training loss')\n",
    "plt.plot(epochs, reg_hist['val_loss'], 'r', label='Validation loss')\n",
    "plt.title('Training and validation Loss')\n",
    "plt.xlabel('Epochs')\n",
    "plt.ylabel('Loss')\n",
    "plt.legend()\n",
    "plt.show()"
   ]
  },
  {
   "cell_type": "markdown",
   "metadata": {},
   "source": [
    "## 2- Let's create a complex model - Overfitting"
   ]
  },
  {
   "cell_type": "code",
   "execution_count": 25,
   "metadata": {},
   "outputs": [],
   "source": [
    "#A function to create complex model\n",
    "def build_complex_model():\n",
    "    model = models.Sequential()\n",
    "    \n",
    "    model.add(layers.Dense(512, activation='relu', input_shape=(28*28,)))\n",
    "    model.add(layers.Dense(1024, activation='relu'))\n",
    "    model.add(layers.Dense(10, activation='softmax'))\n",
    "    \n",
    "    model.compile(optimizer='rmsprop', loss='categorical_crossentropy', metrics=['acc'])\n",
    "    \n",
    "    return model"
   ]
  },
  {
   "cell_type": "code",
   "execution_count": 26,
   "metadata": {},
   "outputs": [],
   "source": [
    "complex_model = build_complex_model()"
   ]
  },
  {
   "cell_type": "code",
   "execution_count": 27,
   "metadata": {
    "scrolled": true
   },
   "outputs": [
    {
     "name": "stdout",
     "output_type": "stream",
     "text": [
      "Train on 60000 samples, validate on 10000 samples\n",
      "Epoch 1/10\n",
      "60000/60000 [==============================] - 21s 358us/step - loss: 0.2132 - acc: 0.9338 - val_loss: 0.1024 - val_acc: 0.9683\n",
      "Epoch 2/10\n",
      "60000/60000 [==============================] - 16s 274us/step - loss: 0.0814 - acc: 0.9750 - val_loss: 0.0849 - val_acc: 0.9744\n",
      "Epoch 3/10\n",
      "60000/60000 [==============================] - 16s 262us/step - loss: 0.0540 - acc: 0.9837 - val_loss: 0.0831 - val_acc: 0.9768\n",
      "Epoch 4/10\n",
      "60000/60000 [==============================] - 16s 260us/step - loss: 0.0386 - acc: 0.9886 - val_loss: 0.0827 - val_acc: 0.9795\n",
      "Epoch 5/10\n",
      "60000/60000 [==============================] - 15s 255us/step - loss: 0.0306 - acc: 0.9910 - val_loss: 0.0861 - val_acc: 0.9795\n",
      "Epoch 6/10\n",
      "60000/60000 [==============================] - 15s 258us/step - loss: 0.0238 - acc: 0.9926 - val_loss: 0.1254 - val_acc: 0.9722\n",
      "Epoch 7/10\n",
      "60000/60000 [==============================] - 16s 272us/step - loss: 0.0218 - acc: 0.9931 - val_loss: 0.0859 - val_acc: 0.9823\n",
      "Epoch 8/10\n",
      "60000/60000 [==============================] - 17s 290us/step - loss: 0.0176 - acc: 0.9949 - val_loss: 0.1087 - val_acc: 0.9798\n",
      "Epoch 9/10\n",
      "60000/60000 [==============================] - 20s 330us/step - loss: 0.0153 - acc: 0.9957 - val_loss: 0.1022 - val_acc: 0.9815\n",
      "Epoch 10/10\n",
      "60000/60000 [==============================] - 17s 280us/step - loss: 0.0131 - acc: 0.9965 - val_loss: 0.1342 - val_acc: 0.9786\n"
     ]
    }
   ],
   "source": [
    "compl_hist = complex_model.fit(x_tr, y_tr, epochs=10, batch_size=128, validation_data=(x_te,y_te))"
   ]
  },
  {
   "cell_type": "code",
   "execution_count": 28,
   "metadata": {},
   "outputs": [],
   "source": [
    "compl_hist = compl_hist.history"
   ]
  },
  {
   "cell_type": "code",
   "execution_count": 29,
   "metadata": {},
   "outputs": [
    {
     "data": {
      "text/plain": [
       "['acc', 'loss', 'val_acc', 'val_loss']"
      ]
     },
     "execution_count": 29,
     "metadata": {},
     "output_type": "execute_result"
    }
   ],
   "source": [
    "compl_hist.keys()"
   ]
  },
  {
   "cell_type": "code",
   "execution_count": 30,
   "metadata": {},
   "outputs": [
    {
     "data": {
      "text/plain": [
       "[0.93381666669845576,\n",
       " 0.97499999999999998,\n",
       " 0.98368333333333335,\n",
       " 0.9885666666666667,\n",
       " 0.99103333330154419,\n",
       " 0.99260000003178916,\n",
       " 0.99313333330154419,\n",
       " 0.99493333333333334,\n",
       " 0.99570000000000003,\n",
       " 0.99650000003178918]"
      ]
     },
     "execution_count": 30,
     "metadata": {},
     "output_type": "execute_result"
    }
   ],
   "source": [
    "compl_hist['acc']"
   ]
  },
  {
   "cell_type": "code",
   "execution_count": 31,
   "metadata": {},
   "outputs": [
    {
     "data": {
      "image/png": "[encoded data removed]",
      "text/plain": [
       "<matplotlib.figure.Figure at 0x124054990>"
      ]
     },
     "metadata": {},
     "output_type": "display_data"
    }
   ],
   "source": [
    "epochs = range(1, len(compl_hist['acc'])+1)\n",
    "plt.plot(epochs, compl_hist['acc'], 'b', label='Training acc')\n",
    "plt.plot(epochs, compl_hist['val_acc'], 'r', label='Validation acc')\n",
    "plt.title('Training and validation Acc')\n",
    "plt.xlabel('Epochs')\n",
    "plt.ylabel('Acc')\n",
    "plt.legend()\n",
    "plt.show()"
   ]
  },
  {
   "cell_type": "code",
   "execution_count": 32,
   "metadata": {},
   "outputs": [
    {
     "data": {
      "image/png": "[encoded data removed]",
      "text/plain": [
       "<matplotlib.figure.Figure at 0x1256bcfd0>"
      ]
     },
     "metadata": {},
     "output_type": "display_data"
    }
   ],
   "source": [
    "epochs = range(1, len(compl_hist['loss'])+1)\n",
    "\n",
    "plt.plot(epochs, compl_hist['loss'], 'b', label='Training loss')\n",
    "plt.plot(epochs, compl_hist['val_loss'], 'r', label='Validation loss')\n",
    "plt.title('Trainig and validation Loss')\n",
    "plt.xlabel('Epochs')\n",
    "plt.ylabel('Loss')\n",
    "plt.legend()\n",
    "plt.show()"
   ]
  },
  {
   "cell_type": "markdown",
   "metadata": {},
   "source": [
    "## 3- Let's create a simple model - Underfitting"
   ]
  },
  {
   "cell_type": "code",
   "execution_count": 33,
   "metadata": {},
   "outputs": [],
   "source": [
    "def build_simple_model():\n",
    "    model = models.Sequential()\n",
    "    \n",
    "    model.add(layers.Dense(2, activation='relu', input_shape=(28*28,)))\n",
    "    model.add(layers.Dense(10, activation='softmax'))\n",
    "    \n",
    "    model.compile(optimizer='rmsprop', loss='categorical_crossentropy', metrics=['acc'])\n",
    "    \n",
    "    return model"
   ]
  },
  {
   "cell_type": "code",
   "execution_count": 34,
   "metadata": {},
   "outputs": [],
   "source": [
    "simple_model = build_simple_model()"
   ]
  },
  {
   "cell_type": "code",
   "execution_count": 35,
   "metadata": {
    "scrolled": true
   },
   "outputs": [
    {
     "name": "stdout",
     "output_type": "stream",
     "text": [
      "Train on 60000 samples, validate on 10000 samples\n",
      "Epoch 1/10\n",
      "60000/60000 [==============================] - 1s 22us/step - loss: 1.9152 - acc: 0.2855 - val_loss: 1.7159 - val_acc: 0.3747\n",
      "Epoch 2/10\n",
      "60000/60000 [==============================] - 2s 26us/step - loss: 1.6021 - acc: 0.4174 - val_loss: 1.5119 - val_acc: 0.4715\n",
      "Epoch 3/10\n",
      "60000/60000 [==============================] - 2s 28us/step - loss: 1.4439 - acc: 0.5009 - val_loss: 1.3867 - val_acc: 0.5279\n",
      "Epoch 4/10\n",
      "60000/60000 [==============================] - 1s 24us/step - loss: 1.3420 - acc: 0.5466 - val_loss: 1.3001 - val_acc: 0.5667\n",
      "Epoch 5/10\n",
      "60000/60000 [==============================] - 2s 39us/step - loss: 1.2644 - acc: 0.5749 - val_loss: 1.2271 - val_acc: 0.5812\n",
      "Epoch 6/10\n",
      "60000/60000 [==============================] - 1s 22us/step - loss: 1.2034 - acc: 0.5844 - val_loss: 1.1731 - val_acc: 0.5930\n",
      "Epoch 7/10\n",
      "60000/60000 [==============================] - 1s 24us/step - loss: 1.1598 - acc: 0.5930 - val_loss: 1.1362 - val_acc: 0.6082\n",
      "Epoch 8/10\n",
      "60000/60000 [==============================] - 2s 30us/step - loss: 1.1285 - acc: 0.6053 - val_loss: 1.1081 - val_acc: 0.6194\n",
      "Epoch 9/10\n",
      "60000/60000 [==============================] - 1s 22us/step - loss: 1.1052 - acc: 0.6232 - val_loss: 1.0891 - val_acc: 0.6368\n",
      "Epoch 10/10\n",
      "60000/60000 [==============================] - 1s 21us/step - loss: 1.0874 - acc: 0.6377 - val_loss: 1.0720 - val_acc: 0.6483\n"
     ]
    }
   ],
   "source": [
    "simpl_hist = simple_model.fit(x_tr, y_tr, epochs=10, batch_size=128, validation_data=(x_te,y_te))"
   ]
  },
  {
   "cell_type": "code",
   "execution_count": 36,
   "metadata": {},
   "outputs": [],
   "source": [
    "simpl_hist = simpl_hist.history"
   ]
  },
  {
   "cell_type": "code",
   "execution_count": 37,
   "metadata": {},
   "outputs": [
    {
     "data": {
      "image/png": "[encoded data removed]",
      "text/plain": [
       "<matplotlib.figure.Figure at 0x11267d510>"
      ]
     },
     "metadata": {},
     "output_type": "display_data"
    }
   ],
   "source": [
    "epochs = range(1, len(simpl_hist['loss'])+1)\n",
    "plt.plot(epochs, simpl_hist['acc'], 'b', label='Training acc')\n",
    "plt.plot(epochs, simpl_hist['val_acc'], 'r', label='Validation acc')\n",
    "plt.title('Training and validation Acc')\n",
    "plt.xlabel('Epochs')\n",
    "plt.ylabel('Acc')\n",
    "plt.legend()\n",
    "plt.show()"
   ]
  },
  {
   "cell_type": "code",
   "execution_count": 38,
   "metadata": {},
   "outputs": [
    {
     "data": {
      "image/png": "[encoded data removed]",
      "text/plain": [
       "<matplotlib.figure.Figure at 0x1124067d0>"
      ]
     },
     "metadata": {},
     "output_type": "display_data"
    }
   ],
   "source": [
    "epochs = range(1, len(simpl_hist['loss'])+1)\n",
    "plt.plot(epochs, simpl_hist['loss'], 'b', label='Training loss')\n",
    "plt.plot(epochs, simpl_hist['val_loss'], 'r', label='Validation loss')\n",
    "plt.title('Trainig and validation Loss')\n",
    "plt.xlabel('Epochs')\n",
    "plt.ylabel('Loss')\n",
    "plt.legend()\n",
    "plt.show()"
   ]
  }
 ],
 "metadata": {
  "kernelspec": {
   "display_name": "Python 2",
   "language": "python",
   "name": "python2"
  },
  "language_info": {
   "codemirror_mode": {
    "name": "ipython",
    "version": 2
   },
   "file_extension": ".py",
   "mimetype": "text/x-python",
   "name": "python",
   "nbconvert_exporter": "python",
   "pygments_lexer": "ipython2",
   "version": "2.7.15"
  }
 },
 "nbformat": 4,
 "nbformat_minor": 2
}
